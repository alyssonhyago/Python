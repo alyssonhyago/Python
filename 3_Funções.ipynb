{
  "nbformat": 4,
  "nbformat_minor": 0,
  "metadata": {
    "colab": {
      "name": "Funções.ipynb",
      "provenance": [],
      "collapsed_sections": []
    },
    "kernelspec": {
      "name": "python3",
      "display_name": "Python 3"
    },
    "language_info": {
      "name": "python"
    }
  },
  "cells": [
    {
      "cell_type": "markdown",
      "source": [
        "#Funções\n",
        "\n",
        "A sintaxe da função é definida por três parte:\n",
        "\n",
        "*   nome,\n",
        "*   parâmetros,\n",
        "*   Comportament.\n",
        "\n",
        "\n",
        "\n",
        "\n"
      ],
      "metadata": {
        "id": "pMZqpMmtejDQ"
      }
    },
    {
      "cell_type": "code",
      "execution_count": 1,
      "metadata": {
        "id": "zbICt4h_edlb"
      },
      "outputs": [],
      "source": [
        "def main():\n",
        "  pass\n",
        "\n",
        "main()"
      ]
    },
    {
      "cell_type": "code",
      "source": [
        "def nome():\n",
        "  comportamento = ''"
      ],
      "metadata": {
        "id": "o-u15r4Dp13K"
      },
      "execution_count": null,
      "outputs": []
    },
    {
      "cell_type": "code",
      "source": [
        " def ola(meu_nome):\n",
        "   print('olá', meu_nome)\n",
        "\n",
        "ola(\"Alysson Oliveira\")"
      ],
      "metadata": {
        "colab": {
          "base_uri": "https://localhost:8080/"
        },
        "id": "51Ie0S0jqiMJ",
        "outputId": "8e08e2db-420f-464b-b30f-99f3b10574a2"
      },
      "execution_count": 2,
      "outputs": [
        {
          "output_type": "stream",
          "name": "stdout",
          "text": [
            "olá Alysson Oliveira\n"
          ]
        }
      ]
    },
    {
      "cell_type": "code",
      "source": [
        "def soma(a,b):\n",
        "  return a + b\n",
        "\n",
        "soma(10,5)"
      ],
      "metadata": {
        "colab": {
          "base_uri": "https://localhost:8080/"
        },
        "id": "wilhwbNxqu-f",
        "outputId": "3df2e6f4-020f-4ea2-9f03-2ad6e81440cb"
      },
      "execution_count": 3,
      "outputs": [
        {
          "output_type": "execute_result",
          "data": {
            "text/plain": [
              "15"
            ]
          },
          "metadata": {},
          "execution_count": 3
        }
      ]
    },
    {
      "cell_type": "code",
      "source": [
        "def recebe_nota():\n",
        "  nota1 = float(input('Digite a nota: '))\n",
        "  nota2 = float(input('Digite a nota: '))\n",
        "  media = (nota1+nota2)/2\n",
        "  return media\n",
        "\n",
        "recebe_nota()"
      ],
      "metadata": {
        "id": "wWKbJqWhs0qJ"
      },
      "execution_count": null,
      "outputs": []
    },
    {
      "cell_type": "code",
      "source": [
        "def recebe_nota():\n",
        "  nota1 = float(input('Digite a nota: '))\n",
        "  nota2 = float(input('Digite a nota: '))\n",
        "  return media(nota1,nota2)\n",
        "\n",
        "def media(nota1,nota2):\n",
        "  media = (nota1+nota2)/2\n",
        "  return media\n",
        "\n",
        "recebe_nota()\n",
        "\n"
      ],
      "metadata": {
        "colab": {
          "base_uri": "https://localhost:8080/"
        },
        "id": "5H5X45Cgr0kW",
        "outputId": "a0db0fe0-7318-492c-ef32-bff7fbaeef51"
      },
      "execution_count": 11,
      "outputs": [
        {
          "name": "stdout",
          "output_type": "stream",
          "text": [
            "Digite a nota: 5\n",
            "Digite a nota: 5\n"
          ]
        },
        {
          "output_type": "execute_result",
          "data": {
            "text/plain": [
              "5.0"
            ]
          },
          "metadata": {},
          "execution_count": 11
        }
      ]
    }
  ]
}