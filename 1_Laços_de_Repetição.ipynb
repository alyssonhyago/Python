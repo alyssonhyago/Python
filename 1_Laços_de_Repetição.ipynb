{
  "nbformat": 4,
  "nbformat_minor": 0,
  "metadata": {
    "colab": {
      "name": "1.Laços de Repetição.ipynb",
      "provenance": []
    },
    "kernelspec": {
      "name": "python3",
      "display_name": "Python 3"
    },
    "language_info": {
      "name": "python"
    }
  },
  "cells": [
    {
      "cell_type": "markdown",
      "source": [
        "#Laços de Repetição\n"
      ],
      "metadata": {
        "id": "9FA1w0vxxYsH"
      }
    },
    {
      "cell_type": "code",
      "execution_count": null,
      "metadata": {
        "colab": {
          "base_uri": "https://localhost:8080/"
        },
        "id": "Kj0yd9DMvTkh",
        "outputId": "151abf03-94d6-498a-e99b-9b46fb383ab1"
      },
      "outputs": [
        {
          "output_type": "stream",
          "name": "stdout",
          "text": [
            "Felipe\n",
            "Haynes\n",
            "Alisson\n",
            "Hyago\n"
          ]
        }
      ],
      "source": [
        "#Lista de todos os alunos \n",
        "alunos = [\"Felipe\",\"Haynes\", \"Alisson\"]\n",
        "\n",
        "alunos.append(\"Hyago\")\n",
        "\n",
        "if(len(alunos) == 0):\n",
        "  print(\"Não tem nenhum aluno\")\n",
        "elif (len(alunos) == 1):\n",
        "  print(alunos[0]) \n",
        "elif (len(alunos) == 2):\n",
        "  print(alunos[0])\n",
        "  print(alunos[1]) \n",
        "elif (len(alunos) == 3):\n",
        "  print(alunos[0])\n",
        "  print(alunos[1])\n",
        "  print(alunos[2])\n",
        "elif (len(alunos) == 4):\n",
        "  print(alunos[0])\n",
        "  print(alunos[1])\n",
        "  print(alunos[2])\n",
        "  print(alunos[3]) "
      ]
    },
    {
      "cell_type": "code",
      "source": [
        "alunos = [\"Felipe\",\"Haynes\", \"Alisson\"]\n",
        "\n",
        "for aluno in alunos:\n",
        "  print(aluno)"
      ],
      "metadata": {
        "colab": {
          "base_uri": "https://localhost:8080/"
        },
        "id": "iPw7fcQFw5RD",
        "outputId": "d77fe307-85cf-497b-b07f-3f1da6b364d3"
      },
      "execution_count": null,
      "outputs": [
        {
          "output_type": "stream",
          "name": "stdout",
          "text": [
            "Felipe\n",
            "Haynes\n",
            "Alisson\n"
          ]
        }
      ]
    },
    {
      "cell_type": "code",
      "source": [
        "lista = [1,2,3,4]\n",
        "lista"
      ],
      "metadata": {
        "colab": {
          "base_uri": "https://localhost:8080/"
        },
        "id": "diYMAqifxxhz",
        "outputId": "e28ab53a-8fed-4954-9c4f-5083a584e3f3"
      },
      "execution_count": null,
      "outputs": [
        {
          "output_type": "execute_result",
          "data": {
            "text/plain": [
              "[1, 2, 3, 4]"
            ]
          },
          "metadata": {},
          "execution_count": 6
        }
      ]
    },
    {
      "cell_type": "code",
      "source": [
        "lista = [[1,2],[3,4]]\n",
        "lista"
      ],
      "metadata": {
        "colab": {
          "base_uri": "https://localhost:8080/"
        },
        "id": "uMm_UOjvx7q8",
        "outputId": "b5c257cd-e753-43d3-f2d7-7cdae392c918"
      },
      "execution_count": null,
      "outputs": [
        {
          "output_type": "execute_result",
          "data": {
            "text/plain": [
              "[[1, 2], [3, 4]]"
            ]
          },
          "metadata": {},
          "execution_count": 8
        }
      ]
    },
    {
      "cell_type": "code",
      "source": [
        "lista = [[\"alysson\", 10],[\"Felipe\", 9], [\"Pedro\",5]]\n",
        "\n",
        "for resultado in lista:\n",
        "  print(resultado)"
      ],
      "metadata": {
        "colab": {
          "base_uri": "https://localhost:8080/"
        },
        "id": "sVam-bQAyF2b",
        "outputId": "19fd6e29-a7ac-4e9d-ec73-8a286415cbdb"
      },
      "execution_count": null,
      "outputs": [
        {
          "output_type": "stream",
          "name": "stdout",
          "text": [
            "['alysson', 10]\n",
            "['Felipe', 9]\n",
            "['Pedro', 5]\n"
          ]
        }
      ]
    },
    {
      "cell_type": "markdown",
      "source": [
        "#3. Desafio 5.1"
      ],
      "metadata": {
        "id": "Ok2-evdbyr2P"
      }
    },
    {
      "cell_type": "code",
      "source": [
        "notas= []\n",
        "\n",
        "for i in range(5,11):\n",
        "  notas.append(i)\n",
        "#print(notas)\n",
        "for nota in notas:\n",
        " print(nota)"
      ],
      "metadata": {
        "id": "YMT89h2YyrYE"
      },
      "execution_count": null,
      "outputs": []
    },
    {
      "cell_type": "code",
      "source": [
        "alunos = [\"Felipe\", \"Alysson\", \"Haynes\"]\n",
        "notas = [[8,10],[10,7], [8,9]]\n",
        "\n",
        "for aluno in alunos:\n",
        "  print(aluno)\n",
        "\n",
        "for nota in notas:\n",
        "  print(nota)"
      ],
      "metadata": {
        "colab": {
          "base_uri": "https://localhost:8080/"
        },
        "id": "x5eWQyKf0DvI",
        "outputId": "1614d2ea-20c6-4f71-f03b-92d45b5aeb25"
      },
      "execution_count": null,
      "outputs": [
        {
          "output_type": "stream",
          "name": "stdout",
          "text": [
            "Felipe\n",
            "Alysson\n",
            "Haynes\n",
            "[8, 10]\n",
            "[10, 7]\n",
            "[8, 9]\n"
          ]
        }
      ]
    },
    {
      "cell_type": "code",
      "source": [
        "for lista_notas in notas:\n",
        "  soma=0 #[8,9]\n",
        "  for nota in lista_notas:\n",
        "    soma += nota # 8 e 9 \n",
        "  media = soma/len(lista_notas)\n",
        "  print(soma)\n",
        "  print(media)"
      ],
      "metadata": {
        "colab": {
          "base_uri": "https://localhost:8080/"
        },
        "id": "ryhCGu4Y0wyy",
        "outputId": "f9f986ae-89cf-4006-a693-d35b3465dc0b"
      },
      "execution_count": null,
      "outputs": [
        {
          "output_type": "stream",
          "name": "stdout",
          "text": [
            "18\n",
            "9.0\n",
            "17\n",
            "8.5\n",
            "17\n",
            "8.5\n"
          ]
        }
      ]
    },
    {
      "cell_type": "code",
      "source": [
        "alunos = [\"Felipe\", \"Alysson\", \"Haynes\"]\n",
        "notas = [[8,10],[10,7], [8,9]]\n",
        "\n",
        "if (len(alunos) == len(notas)):\n",
        "  for indice in range(len(alunos)):\n",
        "    soma = 0 #[8,10]\n",
        "    for nota in notas[indice]:\n",
        "      soma+= nota # 8 e 10\n",
        "    media = soma/len(notas[indice])\n",
        "    print(f'o aluno {alunos[indice]} tem a média {media}')\n",
        "    if (media>6):\n",
        "      print(f'aprovado')\n",
        "    else:\n",
        "      print(f'reprovado')\n",
        "else:\n",
        "  print(\"Falta nota de aluno\")\n"
      ],
      "metadata": {
        "id": "7s1XVwdz2X9N"
      },
      "execution_count": null,
      "outputs": []
    },
    {
      "cell_type": "markdown",
      "source": [
        "#4. Enumerate e for string"
      ],
      "metadata": {
        "id": "iRrpXdAy40PO"
      }
    },
    {
      "cell_type": "code",
      "source": [
        "string = \"Curso de Python \"\n",
        "len(string)"
      ],
      "metadata": {
        "colab": {
          "base_uri": "https://localhost:8080/"
        },
        "id": "aB8HciqW43RK",
        "outputId": "550d0d3e-4d7b-4869-c375-49c0d716b308"
      },
      "execution_count": null,
      "outputs": [
        {
          "output_type": "execute_result",
          "data": {
            "text/plain": [
              "16"
            ]
          },
          "metadata": {},
          "execution_count": 33
        }
      ]
    },
    {
      "cell_type": "code",
      "source": [
        "for char in string:\n",
        "  print(char)"
      ],
      "metadata": {
        "id": "nexK6vlS7sw2"
      },
      "execution_count": null,
      "outputs": []
    },
    {
      "cell_type": "code",
      "source": [
        "lista = [\"A\", \"l\", \"y\",\"s\",\"s\",\"o\",\"n\"]\n",
        "\n",
        "for chave, nome in enumerate(lista):\n",
        "    print(chave,nome)"
      ],
      "metadata": {
        "colab": {
          "base_uri": "https://localhost:8080/"
        },
        "id": "iLdhllUx70Kw",
        "outputId": "fb0dbe67-eab9-4086-b2c2-9553c82f829a"
      },
      "execution_count": null,
      "outputs": [
        {
          "output_type": "stream",
          "name": "stdout",
          "text": [
            "0 A\n",
            "1 l\n",
            "2 y\n",
            "3 s\n",
            "4 s\n",
            "5 o\n",
            "6 n\n"
          ]
        }
      ]
    },
    {
      "cell_type": "markdown",
      "source": [
        "# 5. Apendendo o While"
      ],
      "metadata": {
        "id": "1PvC-9u45Bmp"
      }
    },
    {
      "cell_type": "code",
      "source": [
        "#Funciona enquanto uma condição for verdadeira, fazendo uma determinada ação.\n",
        "contador = 1\n",
        "\n",
        "while contador < 6:\n",
        "  print(contador)\n",
        "  contador += 1\n",
        "\n"
      ],
      "metadata": {
        "id": "kK2sSAK45FYJ"
      },
      "execution_count": null,
      "outputs": []
    },
    {
      "cell_type": "code",
      "source": [
        "#Observação: não da para iterar em um inteiro, precisa ser em um intervalo (algo iterável)\n",
        "condicao_de_parada ='0'\n",
        "\n",
        "while condicao_de_parada != '9':\n",
        "  condicao_de_parada = input('digite um numero: ')\n",
        "  for i in range(1,int(condicao_de_parada)+1):\n",
        "    print(i) "
      ],
      "metadata": {
        "id": "6YHqzLABXrmD"
      },
      "execution_count": null,
      "outputs": []
    },
    {
      "cell_type": "markdown",
      "source": [
        "#6. Continue e Break"
      ],
      "metadata": {
        "id": "cfqwOdZv5F6k"
      }
    },
    {
      "cell_type": "code",
      "source": [
        "#continue: continua a operação de loop\n",
        "#Break: quebrar a operação de loop -> interroper o loop \n",
        "\n",
        "i = 1\n",
        "\n",
        "while i < 5:\n",
        "  print(i)\n",
        "  i+= 1\n",
        "  if i ==3:\n",
        "    break\n",
        "\n",
        "for x in range(10,20):\n",
        "  print(x)\n",
        "  if x == 15:\n",
        "    break"
      ],
      "metadata": {
        "id": "-hMM3hMc5J-o",
        "colab": {
          "base_uri": "https://localhost:8080/"
        },
        "outputId": "7ed7aca2-ca3b-40f3-fdde-b9d40d7a9722"
      },
      "execution_count": null,
      "outputs": [
        {
          "output_type": "stream",
          "name": "stdout",
          "text": [
            "1\n",
            "2\n",
            "10\n",
            "11\n",
            "12\n",
            "13\n",
            "14\n",
            "15\n"
          ]
        }
      ]
    },
    {
      "cell_type": "code",
      "source": [
        "i = 0 \n",
        "while i <6:\n",
        "  i+= 1\n",
        "  print(i)\n",
        "  if i == 3:\n",
        "    continue"
      ],
      "metadata": {
        "id": "Ps9-T0soFgnS"
      },
      "execution_count": null,
      "outputs": []
    },
    {
      "cell_type": "code",
      "source": [
        "#pula o valor 3 da sequencia devido ao continue\n",
        "i = 0 \n",
        "while i <6:\n",
        "  i+= 1\n",
        "  if i == 3:\n",
        "    continue\n",
        "  print(i)"
      ],
      "metadata": {
        "colab": {
          "base_uri": "https://localhost:8080/"
        },
        "id": "qzkWpgzYF3VO",
        "outputId": "be0aea30-1e40-4981-e932-4737c0bf0b68"
      },
      "execution_count": null,
      "outputs": [
        {
          "output_type": "stream",
          "name": "stdout",
          "text": [
            "1\n",
            "2\n",
            "4\n",
            "5\n",
            "6\n"
          ]
        }
      ]
    },
    {
      "cell_type": "markdown",
      "source": [
        "#7. Desafio Final (Laços de Repetição)"
      ],
      "metadata": {
        "id": "paKnp0-K5KTM"
      }
    },
    {
      "cell_type": "code",
      "source": [
        "#Desafio numero impares e pares, mostrar numero pares e pular os impares\n",
        "\n",
        "for x in range(20):\n",
        "  if x % 2 == 0:\n",
        "    print(x)\n",
        "  elif x == 15:\n",
        "    break\n",
        "  else:\n",
        "    continue"
      ],
      "metadata": {
        "id": "eX69vOou5Rns"
      },
      "execution_count": null,
      "outputs": []
    },
    {
      "cell_type": "markdown",
      "source": [
        "#Extra"
      ],
      "metadata": {
        "id": "xNs4jxXr5R43"
      }
    },
    {
      "cell_type": "code",
      "source": [
        "for i in range(5):\n",
        "  print(i)\n",
        "else:\n",
        "  print(\"Apos o laço, apos a iteração\")"
      ],
      "metadata": {
        "id": "VpbeYyj45S-s",
        "colab": {
          "base_uri": "https://localhost:8080/"
        },
        "outputId": "eda51f35-9efe-4db5-c20d-ad9e098f2cf4"
      },
      "execution_count": null,
      "outputs": [
        {
          "output_type": "stream",
          "name": "stdout",
          "text": [
            "0\n",
            "1\n",
            "2\n",
            "3\n",
            "4\n",
            "Apos o laço, apos a iteração\n"
          ]
        }
      ]
    },
    {
      "cell_type": "code",
      "source": [
        "i = 1\n",
        "\n",
        "while i < 5:\n",
        "  print(i)\n",
        "  i += 1\n",
        "else:\n",
        "  print('i não é  menor do que 5')\n",
        "  print(i)"
      ],
      "metadata": {
        "colab": {
          "base_uri": "https://localhost:8080/"
        },
        "id": "K2-NrrvUKGa1",
        "outputId": "8d36ca6f-d9f8-451d-8cd5-df11e9ac8341"
      },
      "execution_count": null,
      "outputs": [
        {
          "output_type": "stream",
          "name": "stdout",
          "text": [
            "1\n",
            "2\n",
            "3\n",
            "4\n",
            "i não é  menor do que 5\n",
            "5\n"
          ]
        }
      ]
    },
    {
      "cell_type": "markdown",
      "source": [
        "# Diferença de uso entre for e while \n",
        "\n",
        "o laço **for** é geralmente usado quando nós sabemos o número de repetições de antemão;<br>\n",
        "Já o **while** é para quando temos uma ideia de condição de parar, mas não sabemos exatemente quando isso acontece;"
      ],
      "metadata": {
        "id": "BUbTJAhHK3g1"
      }
    }
  ]
}