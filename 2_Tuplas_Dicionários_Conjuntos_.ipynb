{
  "nbformat": 4,
  "nbformat_minor": 0,
  "metadata": {
    "colab": {
      "name": "2_Tuplas_Dicionários_Conjuntos .ipynb",
      "provenance": [],
      "collapsed_sections": [
        "4xGOMNGCMxGB",
        "HA3Ss4tIPa6h",
        "E1jTLW1lPcfq"
      ]
    },
    "kernelspec": {
      "name": "python3",
      "display_name": "Python 3"
    },
    "language_info": {
      "name": "python"
    }
  },
  "cells": [
    {
      "cell_type": "markdown",
      "source": [
        "#listas\n",
        "\n",
        "*   Pode-se aumentar e diminuir o tamanho\n",
        "*   Pode-se modificar o valor de um elemento\n",
        "*   É inicializável com []\n",
        "\n"
      ],
      "metadata": {
        "id": "4xGOMNGCMxGB"
      }
    },
    {
      "cell_type": "code",
      "execution_count": null,
      "metadata": {
        "colab": {
          "base_uri": "https://localhost:8080/"
        },
        "id": "v4ZnF4MRMtZP",
        "outputId": "565da91f-51ed-46b2-e4e3-ea72c635b20b"
      },
      "outputs": [
        {
          "output_type": "stream",
          "name": "stdout",
          "text": [
            "[]\n",
            "<class 'list'>\n"
          ]
        }
      ],
      "source": [
        "lista = []\n",
        "print(lista)\n",
        "print(type(lista))"
      ]
    },
    {
      "cell_type": "code",
      "source": [
        "lista = [0,1,2,3,4,5,6,7,8]\n",
        "print(lista)"
      ],
      "metadata": {
        "colab": {
          "base_uri": "https://localhost:8080/"
        },
        "id": "TfuM85yXQEgH",
        "outputId": "98a374d7-0d17-44cd-afc7-3998bfdf2496"
      },
      "execution_count": null,
      "outputs": [
        {
          "output_type": "stream",
          "name": "stdout",
          "text": [
            "[0, 1, 2, 3, 4, 5, 6, 7, 8]\n"
          ]
        }
      ]
    },
    {
      "cell_type": "code",
      "source": [
        "#adicionando valores a uma lista em vazio\n",
        "lista = []\n",
        "for i in range(11):\n",
        "  lista.append(i)\n",
        "print(lista)"
      ],
      "metadata": {
        "colab": {
          "base_uri": "https://localhost:8080/"
        },
        "id": "1qbIOvBvQY3N",
        "outputId": "0bfd9065-25d2-4f75-ac18-0020a47e15dc"
      },
      "execution_count": null,
      "outputs": [
        {
          "output_type": "stream",
          "name": "stdout",
          "text": [
            "[0, 1, 2, 3, 4, 5, 6, 7, 8, 9, 10]\n"
          ]
        }
      ]
    },
    {
      "cell_type": "code",
      "source": [
        "#Manipulando listas \n",
        "#append, extend, insert, remove, pop, clear, count, copy\n",
        "\n",
        "lista.append(11) # adiciona valores\n",
        "lista\n",
        "lista.pop()#Remove um item em uma dada posição na lista e o retorna. Se nenhum índice é especificado, a.pop() remove e devolve o último item da lista\n",
        "lista\n",
        "lista.remove(11)#Remove o primeiro item encontrado na lista cujo valor é igual a remove(x).\n",
        "lista\n"
      ],
      "metadata": {
        "colab": {
          "base_uri": "https://localhost:8080/"
        },
        "id": "IfxE9-ytQ7mq",
        "outputId": "79c65406-f9de-4392-cc92-6d834710e705"
      },
      "execution_count": null,
      "outputs": [
        {
          "output_type": "execute_result",
          "data": {
            "text/plain": [
              "[0, 1, 2, 3, 4, 5, 6, 7, 8, 9, 10]"
            ]
          },
          "metadata": {},
          "execution_count": 11
        }
      ]
    },
    {
      "cell_type": "markdown",
      "source": [
        "#Tuplas\n",
        "\n",
        "*   Tuplas não permite adcionar novos elementos\n",
        "*   Tuplas não permite alterar elementos\n",
        "*   Tuplas são Imultáveis\n",
        "*   Útil para dados fixos\n",
        "*   Mais rápido que as listas\n",
        "*   É inicializável com ()\n",
        "\n",
        "\n",
        "\n",
        "\n",
        "\n"
      ],
      "metadata": {
        "id": "HA3Ss4tIPa6h"
      }
    },
    {
      "cell_type": "code",
      "source": [
        "tupla = ()\n",
        "print(tupla)\n",
        "print(type(tupla))"
      ],
      "metadata": {
        "colab": {
          "base_uri": "https://localhost:8080/"
        },
        "id": "OTigivaCPgfT",
        "outputId": "6fc8be51-ee08-4fa6-bbe3-bcd609c04b70"
      },
      "execution_count": null,
      "outputs": [
        {
          "output_type": "stream",
          "name": "stdout",
          "text": [
            "()\n",
            "<class 'tuple'>\n"
          ]
        }
      ]
    },
    {
      "cell_type": "code",
      "source": [
        "tupla = (1,2,3)\n",
        "print(tupla)"
      ],
      "metadata": {
        "colab": {
          "base_uri": "https://localhost:8080/"
        },
        "id": "gOqNU7s4UmCz",
        "outputId": "4a5a5b41-5e01-4d68-a13a-b752bd4b5b3b"
      },
      "execution_count": null,
      "outputs": [
        {
          "output_type": "stream",
          "name": "stdout",
          "text": [
            "(1, 2, 3)\n"
          ]
        }
      ]
    },
    {
      "cell_type": "code",
      "source": [
        "tupla.append(4) #Tupla não permite adicionar novos elementos"
      ],
      "metadata": {
        "id": "Zj52yUpOUqnH"
      },
      "execution_count": null,
      "outputs": []
    },
    {
      "cell_type": "markdown",
      "source": [
        "##Exercício sobre Tupla\n",
        "\n",
        "*   Para criar ou converter um objeto para tupla usa-se tuple()\n",
        "*   Podemos converter Tupla em lista e vice-versa\n",
        "\n"
      ],
      "metadata": {
        "id": "CUgA3AFiWdJb"
      }
    },
    {
      "cell_type": "code",
      "source": [
        "tupla = tuple([i for i in range(11)])\n",
        "type(tupla)\n",
        "tupla"
      ],
      "metadata": {
        "colab": {
          "base_uri": "https://localhost:8080/"
        },
        "id": "whPKZskKWcN-",
        "outputId": "3361aadb-0af4-41b0-a2f0-8b89edd5c083"
      },
      "execution_count": null,
      "outputs": [
        {
          "output_type": "execute_result",
          "data": {
            "text/plain": [
              "(0, 1, 2, 3, 4, 5, 6, 7, 8, 9, 10)"
            ]
          },
          "metadata": {},
          "execution_count": 20
        }
      ]
    },
    {
      "cell_type": "code",
      "source": [
        "lista = [1,2,3]\n",
        "tuple(lista)"
      ],
      "metadata": {
        "colab": {
          "base_uri": "https://localhost:8080/"
        },
        "id": "YQ6fXKimXBrU",
        "outputId": "7f0ee879-02f7-4de1-a10d-bab5b7133736"
      },
      "execution_count": null,
      "outputs": [
        {
          "output_type": "execute_result",
          "data": {
            "text/plain": [
              "(1, 2, 3)"
            ]
          },
          "metadata": {},
          "execution_count": 21
        }
      ]
    },
    {
      "cell_type": "code",
      "source": [
        "tupla = (1,2,3,4,5)\n",
        "lista = list(tupla)\n",
        "lista.append(6)\n",
        "lista[2] = \"teste\"\n",
        "tupla = tuple(lista)\n",
        "print(tupla)"
      ],
      "metadata": {
        "colab": {
          "base_uri": "https://localhost:8080/"
        },
        "id": "shA85CXKYBKm",
        "outputId": "7a6c11b2-17c7-449b-dde7-274969ce3368"
      },
      "execution_count": null,
      "outputs": [
        {
          "output_type": "stream",
          "name": "stdout",
          "text": [
            "(1, 2, 'teste', 4, 5, 6)\n"
          ]
        }
      ]
    },
    {
      "cell_type": "markdown",
      "source": [
        "#Conjuntos\n",
        "\n",
        "*   Conjunto não aceita duplicatas\n",
        "*   Não são ordenados\n",
        "*   Possui as operações dos conjuntos matemáticos\n",
        "*   Inicializável com as {}\n",
        "*   set() converte para conjunto\n",
        "\n",
        "\n",
        "\n",
        "\n",
        "\n",
        "\n"
      ],
      "metadata": {
        "id": "E1jTLW1lPcfq"
      }
    },
    {
      "cell_type": "code",
      "source": [
        "conjunto = {'teste'}\n",
        "print(conjunto)\n",
        "type(conjunto)"
      ],
      "metadata": {
        "colab": {
          "base_uri": "https://localhost:8080/"
        },
        "id": "ayrjGk7bPhF2",
        "outputId": "99a0fe9e-9567-4ad4-b44a-a29d7210a7f8"
      },
      "execution_count": null,
      "outputs": [
        {
          "output_type": "stream",
          "name": "stdout",
          "text": [
            "{'teste'}\n"
          ]
        },
        {
          "output_type": "execute_result",
          "data": {
            "text/plain": [
              "set"
            ]
          },
          "metadata": {},
          "execution_count": 23
        }
      ]
    },
    {
      "cell_type": "code",
      "source": [
        "conjunto = {1,2,3,1,4,3}\n",
        "conjunto"
      ],
      "metadata": {
        "colab": {
          "base_uri": "https://localhost:8080/"
        },
        "id": "KyihsHUteCOq",
        "outputId": "ee5daa3b-df7f-4470-e51e-8218b8badc76"
      },
      "execution_count": null,
      "outputs": [
        {
          "output_type": "execute_result",
          "data": {
            "text/plain": [
              "{1, 2, 3, 4}"
            ]
          },
          "metadata": {},
          "execution_count": 25
        }
      ]
    },
    {
      "cell_type": "code",
      "source": [
        "conjunto1 = {1,2,3,4,5}\n",
        "conjunto2 = {6,7,8,9,10}"
      ],
      "metadata": {
        "id": "tBU0oIPpaxqc"
      },
      "execution_count": null,
      "outputs": []
    },
    {
      "cell_type": "code",
      "source": [
        "conjunto1.add(6)\n",
        "conjunto2.add(11)\n"
      ],
      "metadata": {
        "id": "XbwE1fa5efbH"
      },
      "execution_count": null,
      "outputs": []
    },
    {
      "cell_type": "code",
      "source": [
        "print(conjunto1)\n",
        "print(conjunto2)"
      ],
      "metadata": {
        "colab": {
          "base_uri": "https://localhost:8080/"
        },
        "id": "3qtLY9sgenoH",
        "outputId": "b935bdb9-5a1a-4a17-8e36-f7b80b1be1c5"
      },
      "execution_count": null,
      "outputs": [
        {
          "output_type": "stream",
          "name": "stdout",
          "text": [
            "{1, 2, 3, 4, 5, 6}\n",
            "{6, 7, 8, 9, 10, 11}\n"
          ]
        }
      ]
    },
    {
      "cell_type": "markdown",
      "source": [
        "##Exercico"
      ],
      "metadata": {
        "id": "X3iFEgaEe_Pj"
      }
    },
    {
      "cell_type": "code",
      "source": [
        "#ADD adiciona apenas um Item \n",
        "frutas = {'maça', 'Uva'}\n",
        "print(frutas)\n",
        "frutas.add('Laranja')\n",
        "frutas.add('Abacaxi')\n",
        "frutas.add('Pêra')\n",
        "print(frutas)"
      ],
      "metadata": {
        "id": "81yyO6NOfAuI",
        "colab": {
          "base_uri": "https://localhost:8080/"
        },
        "outputId": "eeca4481-dab2-4cca-fcf3-89d110ea2c01"
      },
      "execution_count": 2,
      "outputs": [
        {
          "output_type": "stream",
          "name": "stdout",
          "text": [
            "{'maça', 'Uva'}\n",
            "{'maça', 'Abacaxi', 'Laranja', 'Uva', 'Pêra'}\n"
          ]
        }
      ]
    },
    {
      "cell_type": "code",
      "source": [
        "#Update adiciona mais de um item por vez\n",
        "frutas = {'maça', 'Uva'}\n",
        "print(frutas)\n",
        "frutas.update(['Pêra', 'Abacaxi','Morango','Melancia'])\n",
        "print(frutas)\n"
      ],
      "metadata": {
        "colab": {
          "base_uri": "https://localhost:8080/"
        },
        "id": "Z5k5hdM_TI16",
        "outputId": "cf566107-89b6-4107-c95a-880e234436fe"
      },
      "execution_count": 4,
      "outputs": [
        {
          "output_type": "stream",
          "name": "stdout",
          "text": [
            "{'maça', 'Uva'}\n",
            "{'maça', 'Abacaxi', 'Uva', 'Morango', 'Pêra', 'Melancia'}\n"
          ]
        }
      ]
    },
    {
      "cell_type": "code",
      "source": [
        "frutas.remove('Uva') #Remove Uva, remove item existentes\n",
        "print(frutas)"
      ],
      "metadata": {
        "id": "sbXLBd5BTgMC"
      },
      "execution_count": null,
      "outputs": []
    },
    {
      "cell_type": "code",
      "source": [
        "#Union : faz a soma de dois conjuntos\n",
        "#intersection: faz a interceção entes os conjuntos\n",
        "#difference: faz a diferença entre os conjuntos\n",
        "conjunto1 = {1,2,3,4,5,6}\n",
        "conjunto2 = {6,7,8,9,10}\n",
        "\n",
        "#conjunto_total = conjunto1.union(conjunto2)\n",
        "#conjunto_total = conjunto1.intersection(conjunto2)\n",
        "conjunto_total = conjunto1.difference(conjunto2)\n",
        "print(conjunto_total)"
      ],
      "metadata": {
        "colab": {
          "base_uri": "https://localhost:8080/"
        },
        "id": "NlLM0lIaTrvx",
        "outputId": "8e5f5ddb-64f3-44b0-da34-da3a746d5439"
      },
      "execution_count": 12,
      "outputs": [
        {
          "output_type": "stream",
          "name": "stdout",
          "text": [
            "{1, 2, 3, 4, 5}\n"
          ]
        }
      ]
    },
    {
      "cell_type": "code",
      "source": [
        "#testar se um é subconjunto do outro com a função issubset\n",
        "conjunto3 = {1,2,3}\n",
        "conjunto4 = {1,2,3,4,5,6}\n",
        "\n",
        "subconjunto = conjunto3.issubset(conjunto4)\n",
        "print(subconjunto)"
      ],
      "metadata": {
        "colab": {
          "base_uri": "https://localhost:8080/"
        },
        "id": "AawnP2R3WQZE",
        "outputId": "849e2374-ce00-483a-c1ce-5a7b4b5b0e10"
      },
      "execution_count": 14,
      "outputs": [
        {
          "output_type": "stream",
          "name": "stdout",
          "text": [
            "True\n"
          ]
        }
      ]
    },
    {
      "cell_type": "markdown",
      "source": [
        "#Dicionários\n",
        "\n",
        "*   É uma estrutura de dados composta por chaves e valores\n",
        "*   É inicializável {Chave: Valor}\n",
        "*   Não aceita repetições de chaves, não suporta o mesma palavra duas vezes\n",
        "*   É multável\n",
        "\n",
        "\n",
        "\n"
      ],
      "metadata": {
        "id": "q1VrycOgPdjL"
      }
    },
    {
      "cell_type": "code",
      "source": [
        "dict = {'dog':'cachorro',\n",
        "        'cat': 'gato',\n",
        "        'monkey': 'macaco'}\n",
        "\n",
        "print(dict)\n",
        "print(type(dict))"
      ],
      "metadata": {
        "id": "Sa6UUU7RPhpJ",
        "colab": {
          "base_uri": "https://localhost:8080/"
        },
        "outputId": "d7583e5b-17a6-4d8c-da1e-26d4c9edd7e5"
      },
      "execution_count": 16,
      "outputs": [
        {
          "output_type": "stream",
          "name": "stdout",
          "text": [
            "{'dog': 'cachorro', 'cat': 'gato', 'monkey': 'macaco'}\n",
            "<class 'dict'>\n"
          ]
        }
      ]
    },
    {
      "cell_type": "code",
      "source": [
        "dict['monkey']"
      ],
      "metadata": {
        "colab": {
          "base_uri": "https://localhost:8080/",
          "height": 35
        },
        "id": "mb_C0UI_YbaR",
        "outputId": "1e5f7da1-2717-40b8-ffdd-610d9a04e612"
      },
      "execution_count": 17,
      "outputs": [
        {
          "output_type": "execute_result",
          "data": {
            "text/plain": [
              "'macaco'"
            ],
            "application/vnd.google.colaboratory.intrinsic+json": {
              "type": "string"
            }
          },
          "metadata": {},
          "execution_count": 17
        }
      ]
    },
    {
      "cell_type": "code",
      "source": [
        "dict.get('cat')"
      ],
      "metadata": {
        "colab": {
          "base_uri": "https://localhost:8080/",
          "height": 35
        },
        "id": "n9117aaqZenz",
        "outputId": "cdc49160-5f43-44d9-c693-719181af1aa4"
      },
      "execution_count": 18,
      "outputs": [
        {
          "output_type": "execute_result",
          "data": {
            "text/plain": [
              "'gato'"
            ],
            "application/vnd.google.colaboratory.intrinsic+json": {
              "type": "string"
            }
          },
          "metadata": {},
          "execution_count": 18
        }
      ]
    },
    {
      "cell_type": "markdown",
      "source": [
        "##Exercicio Dicionário"
      ],
      "metadata": {
        "id": "E5ZhbJStZ0eg"
      }
    },
    {
      "cell_type": "code",
      "source": [
        "dict_num = {1 : 'um', 2:'dois', 3:'tres', 4: 'quatro', 5:'cinco'} \n",
        "\n",
        "dict_num[3] # embora se pareça com um indice, é uma chave"
      ],
      "metadata": {
        "colab": {
          "base_uri": "https://localhost:8080/",
          "height": 35
        },
        "id": "kMVN5mlYZ24a",
        "outputId": "02cf2341-7d56-4ac8-da37-f1344e99d3f3"
      },
      "execution_count": 19,
      "outputs": [
        {
          "output_type": "execute_result",
          "data": {
            "text/plain": [
              "'tres'"
            ],
            "application/vnd.google.colaboratory.intrinsic+json": {
              "type": "string"
            }
          },
          "metadata": {},
          "execution_count": 19
        }
      ]
    },
    {
      "cell_type": "code",
      "source": [
        "#Loop para acessar os itens\n",
        "for i in range(1,6):\n",
        "  print(dict_num[i])"
      ],
      "metadata": {
        "colab": {
          "base_uri": "https://localhost:8080/"
        },
        "id": "W73ZqusAabXm",
        "outputId": "b03330d6-d901-4282-8774-34e7c5711702"
      },
      "execution_count": 20,
      "outputs": [
        {
          "output_type": "stream",
          "name": "stdout",
          "text": [
            "um\n",
            "dois\n",
            "tres\n",
            "quatro\n",
            "cinco\n"
          ]
        }
      ]
    },
    {
      "cell_type": "code",
      "source": [
        "dict = {'dog':'cachorro',\n",
        "        'cat': 'gato',\n",
        "        'monkey': 'macaco'}\n",
        "\n",
        "for chaves in dict: #Me retorna as chaves\n",
        " print(chaves)\n"
      ],
      "metadata": {
        "colab": {
          "base_uri": "https://localhost:8080/"
        },
        "id": "HIsZFlSaajpc",
        "outputId": "e209a560-f504-4824-d981-dfb58912e008"
      },
      "execution_count": 30,
      "outputs": [
        {
          "output_type": "stream",
          "name": "stdout",
          "text": [
            "dog\n",
            "cat\n",
            "monkey\n"
          ]
        }
      ]
    },
    {
      "cell_type": "code",
      "source": [
        "# Todas as Chaves : dict.keys()\n",
        "# Todas as Valores : dict.values()\n",
        "\n",
        "for valores in dict.values():\n",
        "  print(valores)"
      ],
      "metadata": {
        "colab": {
          "base_uri": "https://localhost:8080/"
        },
        "id": "TLUDX2uNavcF",
        "outputId": "ae11ec23-d355-43ce-fa0c-7eb5d2cdae76"
      },
      "execution_count": 31,
      "outputs": [
        {
          "output_type": "stream",
          "name": "stdout",
          "text": [
            "cachorro\n",
            "gato\n",
            "macaco\n"
          ]
        }
      ]
    },
    {
      "cell_type": "code",
      "source": [
        "for chaves in dict.keys():\n",
        "  print(chaves)"
      ],
      "metadata": {
        "colab": {
          "base_uri": "https://localhost:8080/"
        },
        "id": "JDeWbLbDbxz3",
        "outputId": "42db9cd6-a1d4-47f5-8bee-bc542e2fa016"
      },
      "execution_count": 32,
      "outputs": [
        {
          "output_type": "stream",
          "name": "stdout",
          "text": [
            "dog\n",
            "cat\n",
            "monkey\n"
          ]
        }
      ]
    },
    {
      "cell_type": "markdown",
      "source": [
        "#Estruturas aninhadas"
      ],
      "metadata": {
        "id": "wBrVlnrrZ31F"
      }
    },
    {
      "cell_type": "code",
      "source": [
        "cursos = {\n",
        "    'solid': {\n",
        "      'nome': 'Aprenda Desing Patterns com Solid',\n",
        "      'categoria': 'design Patters',\n",
        "      'intrutor': 'Alysson Oliveira',\n",
        "      'alunos':'5000'},\n",
        "    'android 9':{\n",
        "        'nome': 'Android 9 Avançado',\n",
        "        'categoria': 'Andoid',\n",
        "        'instrutor': 'Alysson Oliveira',\n",
        "        'Alunos': '5000'\n",
        "    }\n",
        "         }"
      ],
      "metadata": {
        "id": "xlN4fdUnZ5da"
      },
      "execution_count": 35,
      "outputs": []
    },
    {
      "cell_type": "code",
      "source": [
        "print(cursos)"
      ],
      "metadata": {
        "id": "1IWH_vfgdR9D"
      },
      "execution_count": null,
      "outputs": []
    },
    {
      "cell_type": "code",
      "source": [
        "for chaves in cursos.keys():\n",
        "  print(chaves)"
      ],
      "metadata": {
        "colab": {
          "base_uri": "https://localhost:8080/"
        },
        "id": "YlIpUloudbPe",
        "outputId": "82ee9dd0-ef9c-44fb-8867-0b879870c0fd"
      },
      "execution_count": 38,
      "outputs": [
        {
          "output_type": "stream",
          "name": "stdout",
          "text": [
            "solid\n",
            "android 9\n"
          ]
        }
      ]
    },
    {
      "cell_type": "code",
      "source": [
        "cursos['solid']"
      ],
      "metadata": {
        "colab": {
          "base_uri": "https://localhost:8080/"
        },
        "id": "SsEluObbdjx3",
        "outputId": "03281245-aa6c-4a1d-882f-fa19fe8f4b87"
      },
      "execution_count": 39,
      "outputs": [
        {
          "output_type": "execute_result",
          "data": {
            "text/plain": [
              "{'alunos': '5000',\n",
              " 'categoria': 'design Patters',\n",
              " 'intrutor': 'Alysson Oliveira',\n",
              " 'nome': 'Aprenda Desing Patterns com Solid'}"
            ]
          },
          "metadata": {},
          "execution_count": 39
        }
      ]
    },
    {
      "cell_type": "code",
      "source": [
        "print(cursos['android 9']['nome'])"
      ],
      "metadata": {
        "colab": {
          "base_uri": "https://localhost:8080/"
        },
        "id": "jo3nfQrPd59K",
        "outputId": "9a93c20b-f983-41fd-873a-4839d47c145f"
      },
      "execution_count": 40,
      "outputs": [
        {
          "output_type": "stream",
          "name": "stdout",
          "text": [
            "Android 9 Avançado\n"
          ]
        }
      ]
    }
  ]
}